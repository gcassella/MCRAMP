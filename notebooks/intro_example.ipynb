{
 "cells": [
  {
   "cell_type": "code",
   "execution_count": null,
   "metadata": {},
   "outputs": [],
   "source": [
    "%%capture\n",
    "!pip install mcramp\n",
    "!wget https://raw.githubusercontent.com/gcassella/RAMP/5a66408d70622da03ea6062e7d6ad61cc0b14be0/doc/user/powder.json"
   ]
  },
  {
   "cell_type": "markdown",
   "metadata": {
    "raw_mimetype": "text/markdown"
   },
   "source": [
    "Running simulations\n",
    "===================\n",
    "\n",
    "Simulations in RAMP are executed using Python. The architecture of RAMP is contained in the `mcramp` Python package, and is responsible for handling all of the OpenCL operations required to parallelize instrument simulations. \n",
    "\n",
    "---------\n",
    "\n",
    "A detailed example\n",
    "------------------\n",
    "\n",
    "The basic workflow for RAMP is to write an instrument definition file for your instrument, run the simulation in a Python script, and then analyze the resulting data using standard scientific computing libraries for Python (SciPy, etc.).\n",
    "\n",
    "The following notebook demonstrates this basic workflow for a simplified powder diffractometer, consisting of a monochromated source, and a sample with a single Bragg peak, described in the instrument definition file `powder.json <powder.json>`_."
   ]
  },
  {
   "cell_type": "markdown",
   "metadata": {},
   "source": [
    "The snippet below contains a small two line initialization of the OpenCL internals required to identify the device on which the simulations should run. For simulations being run on personal workstations, this will be sufficient and can be safely copied and pasted into any RAMP script."
   ]
  },
  {
   "cell_type": "code",
   "execution_count": null,
   "metadata": {},
   "outputs": [],
   "source": [
    "import mcramp as mcr\n",
    "import pyopencl as cl\n",
    "import numpy as np\n",
    "\n",
    "ctx = cl.create_some_context()\n",
    "queue = cl.CommandQueue(ctx)"
   ]
  },
  {
   "cell_type": "markdown",
   "metadata": {
    "raw_mimetype": "text/restructuredtext"
   },
   "source": [
    "Loading instruments\n",
    "-------------------\n",
    "\n",
    "The instrument  `powder.json <powder.json>`_ contains the variables `Ei` and `Mono_angle` which we can use to vary the wavelength of incident neutrons. First we shall calculate some values for these variables."
   ]
  },
  {
   "cell_type": "code",
   "execution_count": null,
   "metadata": {},
   "outputs": [],
   "source": [
    "# Physical constants\n",
    "\n",
    "h=6.62607015e-34\n",
    "mn=1.674929e-27\n",
    "meV=1.602176634e-22\n",
    "overAA = 1e10\n",
    "\n",
    "Ei = 9.09 # meV - 3AA neutrons\n",
    "Li = h / np.sqrt(2*mn*Ei*meV) * overAA\n",
    "Mono_d_spacing = 3.355 # AA\n",
    "Mono_angle = np.arcsin(Li / (2 * Mono_d_spacing))"
   ]
  },
  {
   "cell_type": "markdown",
   "metadata": {},
   "source": [
    "The instrument definition file also contains the variable `detector_binning` which we can use to vary the histogram bins in the detector output."
   ]
  },
  {
   "cell_type": "code",
   "execution_count": null,
   "metadata": {},
   "outputs": [],
   "source": [
    "detector_binning = [-40.0, 1.0, 140.0]"
   ]
  },
  {
   "cell_type": "markdown",
   "metadata": {},
   "source": [
    "Instruments in RAMP are represented by the `Instrument` class, which contains the methods responsible for instantiating, simulating, and obtaining the results of simulations. Instances of the Instrument class are instantiated as follows:"
   ]
  },
  {
   "cell_type": "code",
   "execution_count": null,
   "metadata": {},
   "outputs": [],
   "source": [
    "inst = mcr.Instrument(\n",
    "    'powder.json', \n",
    "    ctx, \n",
    "    queue, \n",
    "    Ei=Ei, \n",
    "    Mono_angle=Mono_angle, \n",
    "    detector_binning=detector_binning\n",
    ")"
   ]
  },
  {
   "cell_type": "markdown",
   "metadata": {},
   "source": [
    "The constructor for the `Instrument` class takes three arguments by default: the filename of the instrument definition file, the OpenCL context, and the OpenCL queue (the internals we set up earlier). The additional keyword arguments `Ei` and `Mono_angle` correspond to variables in the instrument definition file.\n",
    "\n",
    "### Executing simulations\n",
    "\n",
    "Simulations are executed by calling the `execute(N)` method of the `Instrument` class, where the argument `N` is the desired number of neutron histories to be simulated."
   ]
  },
  {
   "cell_type": "code",
   "execution_count": null,
   "metadata": {},
   "outputs": [],
   "source": [
    "N = int(1e7)\n",
    "inst.execute(N)"
   ]
  },
  {
   "cell_type": "markdown",
   "metadata": {},
   "source": [
    "### Analysing simulation results\n",
    "\n",
    "The easiest way to get a quick visual confirmation that a simulation has returned sensible results is by plotting the output of the instrument monitors using the `plot()` method of the `Instrument` class. This will do some default plotting using `matplotlib` of the histograms of all the detectors in the instrument."
   ]
  },
  {
   "cell_type": "code",
   "execution_count": null,
   "metadata": {},
   "outputs": [],
   "source": [
    "inst.plot()"
   ]
  },
  {
   "cell_type": "markdown",
   "metadata": {},
   "source": [
    "We can see that there is a peak at approximately 60 degrees. Let's adjust the detector binning and re-run the simulation to obtain a better view of the peak shape."
   ]
  },
  {
   "cell_type": "code",
   "execution_count": null,
   "metadata": {},
   "outputs": [],
   "source": [
    "detector_binning = [50.0, 0.02, 70.0]\n",
    "inst = mcr.Instrument(\n",
    "    'powder.json', \n",
    "    ctx, \n",
    "    queue, \n",
    "    Ei=Ei, \n",
    "    Mono_angle=Mono_angle, \n",
    "    detector_binning=detector_binning\n",
    ")\n",
    "N = int(1e7)\n",
    "inst.execute(N)\n",
    "inst.plot()"
   ]
  },
  {
   "cell_type": "markdown",
   "metadata": {},
   "source": [
    "Pretty ugly, but not surprising for such a crude instrument. To perform a more detailed analysis of the detector output, we can obtain the histogram using the `data()` method of the `Instrument` class. This method returns a dictionary whose keys are the names of components in the instrument definition and whose values are data produced by the corresponding component. Typically this will be non-zero for detectors which provide their axes and histogrammed intensities."
   ]
  },
  {
   "cell_type": "code",
   "execution_count": null,
   "metadata": {},
   "outputs": [],
   "source": [
    "data = inst.data()\n",
    "detector_output = data['Detector']\n",
    "theta_axis = detector_output[0]\n",
    "intensity = detector_output[1]"
   ]
  },
  {
   "cell_type": "markdown",
   "metadata": {},
   "source": [
    "With this data in hand, we can now perform some analysis. To find the peak centre, let's naievely fit our lineshape to a Gaussian distribution and find the position of the mean."
   ]
  },
  {
   "cell_type": "code",
   "execution_count": null,
   "metadata": {},
   "outputs": [],
   "source": [
    "from scipy.optimize import curve_fit\n",
    "\n",
    "func = lambda x, c, mu, sigma: c*np.exp(-(x - mu)**2 / (2*sigma**2))\n",
    "popt, pcov = curve_fit(func, xdata=theta_axis, ydata=intensity, p0=[1e10, 60.0, 2.5])\n",
    "print(popt)"
   ]
  },
  {
   "cell_type": "markdown",
   "metadata": {},
   "source": [
    "Giving a peak center of 60.4 degrees (as compared to the nominal answer of 60 degrees exactly for our chosen sample and instrument parameters). Plotting the resulting fit yields..."
   ]
  },
  {
   "cell_type": "code",
   "execution_count": null,
   "metadata": {},
   "outputs": [],
   "source": [
    "import matplotlib.pyplot as plt\n",
    "\n",
    "plt.plot(theta_axis, intensity, 'b-')\n",
    "plt.plot(theta_axis, func(theta_axis, *popt), 'r-')\n",
    "plt.ylabel(\"Intensity\")\n",
    "plt.xlabel(\"Theta [deg]\")\n",
    "plt.show()"
   ]
  },
  {
   "cell_type": "markdown",
   "metadata": {},
   "source": [
    "To save the results of a simulation for analysis at a later date, the `Instrument` class provides the `save()` method. Any component with a `filename` argument will save it's `data()` output as a numpy file `filename.npy` when `inst.save()` is  called."
   ]
  }
 ],
 "metadata": {
  "celltoolbar": "Raw Cell Format",
  "kernelspec": {
   "display_name": "Python 3",
   "language": "python",
   "name": "python3"
  },
  "language_info": {
   "codemirror_mode": {
    "name": "ipython",
    "version": 3
   },
   "file_extension": ".py",
   "mimetype": "text/x-python",
   "name": "python",
   "nbconvert_exporter": "python",
   "pygments_lexer": "ipython3",
   "version": "3.7.4"
  }
 },
 "nbformat": 4,
 "nbformat_minor": 4
}